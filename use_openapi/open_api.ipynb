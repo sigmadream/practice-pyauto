{
 "cells": [
  {
   "cell_type": "markdown",
   "id": "452903c2-c647-475f-8de8-ec30613d02be",
   "metadata": {},
   "source": [
    "# OpenAPI를 활용한 최저가 검색"
   ]
  },
  {
   "cell_type": "markdown",
   "id": "1560ef90-6ea4-42de-80d1-6a6adadcc635",
   "metadata": {},
   "source": [
    "* 네이버 개발자 센터\n",
    "    * https://developers.naver.com/main/"
   ]
  },
  {
   "cell_type": "markdown",
   "id": "400a02ab-c06d-4f52-8a9a-9a5673dab42f",
   "metadata": {},
   "source": [
    "## 로그인 정보"
   ]
  },
  {
   "cell_type": "code",
   "execution_count": null,
   "id": "6cf21b32-ee4a-4ec7-9560-3ac9951faca0",
   "metadata": {
    "tags": []
   },
   "outputs": [],
   "source": [
    "import json\n",
    "import urllib.request\n",
    "import urllib.parse"
   ]
  },
  {
   "cell_type": "code",
   "execution_count": null,
   "id": "05e3e4fa-013a-42f5-bfe9-b319fb36d174",
   "metadata": {
    "tags": []
   },
   "outputs": [],
   "source": [
    "def load_config(filename='config.json'):\n",
    "    with open(filename, 'r', encoding='euc-kr') as file:\n",
    "        result = json.load(file)\n",
    "    return result"
   ]
  },
  {
   "cell_type": "code",
   "execution_count": null,
   "id": "a3626053-0bf5-4248-99c8-29e1e8f782a9",
   "metadata": {
    "tags": []
   },
   "outputs": [],
   "source": [
    "config = load_config(filename='my.json')\n",
    "client_id, client_secret, display, sort_type = config['client_id'], config['client_secret'], config['display'], config['sort_type']"
   ]
  },
  {
   "cell_type": "code",
   "execution_count": null,
   "id": "453d1bed-1edd-41c1-8bd6-7f7ccb82e19a",
   "metadata": {
    "tags": []
   },
   "outputs": [],
   "source": [
    "client_id, client_secret, display, sort_type"
   ]
  },
  {
   "cell_type": "markdown",
   "id": "70bca72a-0029-46ec-881c-6259032f0ec4",
   "metadata": {},
   "source": [
    "## 검색 및 결과"
   ]
  },
  {
   "cell_type": "code",
   "execution_count": null,
   "id": "334f97a4-1a5d-4749-b45c-7bdba30cac29",
   "metadata": {
    "tags": []
   },
   "outputs": [],
   "source": [
    "query = \"샨링 M6\""
   ]
  },
  {
   "cell_type": "markdown",
   "id": "c571f0af-7c4b-4945-8deb-9fc8904ad51e",
   "metadata": {},
   "source": [
    "* https://github.com/naver/naver-openapi-guide/blob/draft/sample/java/APIExamTranslateNMT.java"
   ]
  },
  {
   "cell_type": "code",
   "execution_count": null,
   "id": "ed28c0ad-3a34-4af9-86e5-9f1934c14dd4",
   "metadata": {
    "tags": []
   },
   "outputs": [],
   "source": [
    "def request_query(client_id, client_secret, query):\n",
    "    url=\"https://openapi.naver.com/v1/search/shop.json\"\n",
    "    option=\"&display=\"+str(display)+\"&start=1&sort=\"+sort_type\n",
    "    url_query = url + \"?query=\" + urllib.parse.quote(query) + option\n",
    "    \n",
    "    request = urllib.request.Request(url_query)\n",
    "    request.add_header(\"X-Naver-Client-Id\", client_id)\n",
    "    request.add_header(\"X-Naver-Client-Secret\", client_secret)\n",
    "    \n",
    "    response = urllib.request.urlopen(request)\n",
    "    rescode = response.getcode()\n",
    "    if (rescode == 200):\n",
    "        response_body = response.read()\n",
    "        return response_body.decode('utf-8')\n",
    "    else:\n",
    "        return \"Error code:\"+response    "
   ]
  },
  {
   "cell_type": "code",
   "execution_count": null,
   "id": "e6703779-d96b-4d12-b65d-45e51ff87ea6",
   "metadata": {
    "tags": []
   },
   "outputs": [],
   "source": [
    "result = request_query(client_id, client_secret, query)"
   ]
  },
  {
   "cell_type": "markdown",
   "id": "e152bd06-723f-4b27-aabb-ceeab08552ec",
   "metadata": {},
   "source": [
    "## 검색어 정리"
   ]
  },
  {
   "cell_type": "code",
   "execution_count": null,
   "id": "1660b63f-7a45-4bdc-82dd-426fd72afc83",
   "metadata": {
    "tags": []
   },
   "outputs": [],
   "source": [
    "def parse_response(response):\n",
    "    json_data = json.loads(response)\n",
    "    json_items = json_data[\"items\"]\n",
    "    result = []\n",
    "    for item in json_items:        \n",
    "        result.append({\"title\": item[\"title\"], \"link\": item[\"link\"], \"lprice\": item[\"lprice\"], \"mall_name\": item[\"mallName\"]})\n",
    "    return result"
   ]
  },
  {
   "cell_type": "code",
   "execution_count": null,
   "id": "137a63c6-9067-44eb-9600-76e8c9df0531",
   "metadata": {
    "tags": []
   },
   "outputs": [],
   "source": [
    "parse_response(result)[0:3]"
   ]
  },
  {
   "cell_type": "code",
   "execution_count": null,
   "id": "c1e2679e-4571-4da6-8c6f-05bc64e33da1",
   "metadata": {
    "tags": []
   },
   "outputs": [],
   "source": [
    "data = parse_response(result)"
   ]
  },
  {
   "cell_type": "markdown",
   "id": "2c9452c9-6476-48f9-8fcd-c250017a6057",
   "metadata": {},
   "source": [
    "## Pandas를 활용한 데이터 활용"
   ]
  },
  {
   "cell_type": "code",
   "execution_count": null,
   "id": "d4f3f900-156d-49ef-aa83-a871839ab211",
   "metadata": {
    "tags": []
   },
   "outputs": [],
   "source": [
    "import pandas as pd"
   ]
  },
  {
   "cell_type": "code",
   "execution_count": null,
   "id": "21f50a08-f51e-46a6-b106-e6fd0224ef74",
   "metadata": {
    "tags": []
   },
   "outputs": [],
   "source": [
    "df = pd.DataFrame(data)\n",
    "df"
   ]
  },
  {
   "cell_type": "markdown",
   "id": "8e2d004c-29f7-47b9-be1e-0efdead6ce45",
   "metadata": {},
   "source": [
    "## DB에 저장하기"
   ]
  },
  {
   "cell_type": "code",
   "execution_count": null,
   "id": "786c9537-80df-48a9-ba86-cf8054a361cf",
   "metadata": {},
   "outputs": [],
   "source": [
    "import sqlite3\n",
    "con = sqlite3.connect(\"naver_api.db\")"
   ]
  },
  {
   "cell_type": "code",
   "execution_count": null,
   "id": "b55fe757-0d3b-4b7c-9513-7df3b6ad41cd",
   "metadata": {},
   "outputs": [],
   "source": [
    "df.to_sql(\"price\",con)"
   ]
  },
  {
   "cell_type": "markdown",
   "id": "eae05054-0304-4b9c-955e-d06d28f9d928",
   "metadata": {},
   "source": [
    "## DB에서 불러오기"
   ]
  },
  {
   "cell_type": "code",
   "execution_count": null,
   "id": "e73d5cf2-e19e-492f-8467-e93cf3cb86bf",
   "metadata": {},
   "outputs": [],
   "source": [
    "df_sql = pd.read_sql(\"select * from price\", con)\n",
    "df_sql"
   ]
  },
  {
   "cell_type": "code",
   "execution_count": null,
   "id": "ac89f174-7973-447b-960f-e284c736dedc",
   "metadata": {},
   "outputs": [],
   "source": []
  }
 ],
 "metadata": {
  "kernelspec": {
   "display_name": "Python 3 (ipykernel)",
   "language": "python",
   "name": "python3"
  },
  "language_info": {
   "codemirror_mode": {
    "name": "ipython",
    "version": 3
   },
   "file_extension": ".py",
   "mimetype": "text/x-python",
   "name": "python",
   "nbconvert_exporter": "python",
   "pygments_lexer": "ipython3",
   "version": "3.9.13"
  }
 },
 "nbformat": 4,
 "nbformat_minor": 5
}
