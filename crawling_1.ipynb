{
 "cells": [
  {
   "cell_type": "markdown",
   "id": "7380ae4a-69fe-4346-941e-5558e6e71880",
   "metadata": {},
   "source": [
    "# 크롤링"
   ]
  },
  {
   "cell_type": "code",
   "execution_count": 1,
   "id": "ef9b48d1-fc7f-415a-9926-04838bfbef25",
   "metadata": {},
   "outputs": [],
   "source": [
    "from bs4 import BeautifulSoup\n",
    "import urllib.request\n",
    "import json"
   ]
  },
  {
   "cell_type": "markdown",
   "id": "c16ed059-dda9-48e2-8e54-306141a179a7",
   "metadata": {
    "tags": []
   },
   "source": [
    "## 벅스"
   ]
  },
  {
   "cell_type": "code",
   "execution_count": 2,
   "id": "0fcd5c7f-29e3-45a8-a361-3150990171ad",
   "metadata": {},
   "outputs": [],
   "source": [
    "url = 'https://music.bugs.co.kr/chart'\n",
    "req = urllib.request.Request(url)\n",
    "req.add_header('User-Agent', 'Mozilla/5.0 (Windows NT 6.3; Trident/7.0; rv:11.0) like Gecko')\n",
    "r = urllib.request.urlopen(req)\n",
    "html = urllib.request.urlopen(req).read()"
   ]
  },
  {
   "cell_type": "code",
   "execution_count": 3,
   "id": "82825313-b418-4d22-9ec9-0b6df7a77b31",
   "metadata": {},
   "outputs": [],
   "source": [
    "soup = BeautifulSoup(html, 'html5lib')\n",
    "tr_tag_list = soup.select(\".list > tbody > tr\")"
   ]
  },
  {
   "cell_type": "code",
   "execution_count": 4,
   "id": "93bea27a-6afe-411c-8af6-e511e6ab8ce6",
   "metadata": {},
   "outputs": [],
   "source": [
    "song_list = []\n",
    "for rank, tr_tag in enumerate(tr_tag_list, 1):\n",
    "    song_no = tr_tag[\"trackid\"]\n",
    "    song_tag = tr_tag.select_one(\"th .title a\")\n",
    "    album_tag = tr_tag.select_one(\"td.left .album\")\n",
    "    artist_tag = tr_tag.select_one(\"td.left .artist a\")\n",
    "    \n",
    "    song = {\n",
    "        \"song_no\": song_no,\n",
    "        \"title\": song_tag.text,\n",
    "        \"album\": album_tag.text,\n",
    "        \"artist\": artist_tag.text,\n",
    "    }\n",
    "    \n",
    "    song_list.append(song)"
   ]
  },
  {
   "cell_type": "code",
   "execution_count": 5,
   "id": "32f9a238-7371-4f04-9a1c-d78760e70ed7",
   "metadata": {},
   "outputs": [
    {
     "data": {
      "text/plain": [
       "[{'song_no': '6171743', 'title': 'POSE', 'album': 'POSE', 'artist': '키노'},\n",
       " {'song_no': '6170060',\n",
       "  'title': 'Attention',\n",
       "  'album': \"NewJeans 1st EP 'New Jeans'\",\n",
       "  'artist': 'NewJeans'}]"
      ]
     },
     "execution_count": 5,
     "metadata": {},
     "output_type": "execute_result"
    }
   ],
   "source": [
    "song_list[0:2]"
   ]
  },
  {
   "cell_type": "markdown",
   "id": "0769d1ab-b775-4b77-a58e-1090e945217a",
   "metadata": {
    "tags": []
   },
   "source": [
    "## 멜론"
   ]
  },
  {
   "cell_type": "code",
   "execution_count": 6,
   "id": "a5d399f7-796b-4a55-ab27-8cb783d0886f",
   "metadata": {},
   "outputs": [],
   "source": [
    "url = 'https://www.melon.com/chart/index.htm'\n",
    "req = urllib.request.Request(url)\n",
    "req.add_header('User-Agent', 'Mozilla/5.0 (Windows NT 6.3; Trident/7.0; rv:11.0) like Gecko')\n",
    "r = urllib.request.urlopen(req)\n",
    "html = urllib.request.urlopen(req).read()"
   ]
  },
  {
   "cell_type": "code",
   "execution_count": 7,
   "id": "d953575e-2aae-420a-a3b6-19b86bc513dd",
   "metadata": {},
   "outputs": [],
   "source": [
    "soup = BeautifulSoup(html, 'html5lib')\n",
    "tr_tag_list = soup.select(\".d_song_list tbody tr\")"
   ]
  },
  {
   "cell_type": "code",
   "execution_count": 8,
   "id": "5794baea-6203-4d8a-8bc1-9dd564325cbb",
   "metadata": {},
   "outputs": [],
   "source": [
    "song_list = []\n",
    "for rank, tr_tag in enumerate(tr_tag_list, 1):\n",
    "    song_no = tr_tag[\"data-song-no\"]\n",
    "    song_tag = tr_tag.select_one(\"a[href*=playSong]\")\n",
    "    album_tag = tr_tag.select_one(\".wrap_song_info a[href*=goAlbumDetail]\")\n",
    "    artist_tag = tr_tag.select_one(\"a[href*=goArtistDetail]\")\n",
    "    \n",
    "    song = {\n",
    "        \"song_no\": song_no,\n",
    "        \"title\": song_tag.text,\n",
    "        \"album\": album_tag.text,\n",
    "        \"artist\": artist_tag.text,\n",
    "    }\n",
    "    \n",
    "    song_list.append(song)"
   ]
  },
  {
   "cell_type": "code",
   "execution_count": 9,
   "id": "4d38183e-8cb5-4fdb-9746-8831a767dd33",
   "metadata": {},
   "outputs": [
    {
     "data": {
      "text/plain": [
       "[{'song_no': '35454425',\n",
       "  'title': 'Attention',\n",
       "  'album': \"NewJeans 1st EP 'New Jeans'\",\n",
       "  'artist': 'NewJeans'},\n",
       " {'song_no': '35383397',\n",
       "  'title': '그때 그 순간 그대로 (그그그)',\n",
       "  'album': 'WSG워너비 1집',\n",
       "  'artist': 'WSG워너비 (가야G)'},\n",
       " {'song_no': '35383398',\n",
       "  'title': '보고싶었어',\n",
       "  'album': 'WSG워너비 1집',\n",
       "  'artist': 'WSG워너비 (4FIRE)'},\n",
       " {'song_no': '35454426',\n",
       "  'title': 'Hype boy',\n",
       "  'album': \"NewJeans 1st EP 'New Jeans'\",\n",
       "  'artist': 'NewJeans'},\n",
       " {'song_no': '34847378',\n",
       "  'title': 'LOVE DIVE',\n",
       "  'album': 'LOVE DIVE',\n",
       "  'artist': 'IVE (아이브)'}]"
      ]
     },
     "execution_count": 9,
     "metadata": {},
     "output_type": "execute_result"
    }
   ],
   "source": [
    "song_list[0:5]"
   ]
  },
  {
   "cell_type": "code",
   "execution_count": 10,
   "id": "8624a62d-4aa2-41c8-ac1c-201126484055",
   "metadata": {},
   "outputs": [],
   "source": [
    "def get_like_count(song_no_list):\n",
    "    params = urllib.parse.urlencode({\"contsIds\": song_no_list})\n",
    "    api_url = f'https://www.melon.com/commonlike/getSongLike.json?{params}'\n",
    "    req = urllib.request.Request(api_url)\n",
    "    req.add_header('User-Agent', 'Mozilla/5.0 (Windows NT 6.3; Trident/7.0; rv:11.0) like Gecko')\n",
    "    r = urllib.request.urlopen(req)\n",
    "    response = json.loads(r.read())\n",
    "    like_list = response[\"contsLike\"]\n",
    "    like_dict = {str(song[\"CONTSID\"]): song[\"SUMMCNT\"] for song in like_list}\n",
    "    return like_dict"
   ]
  },
  {
   "cell_type": "code",
   "execution_count": 11,
   "id": "cbc87fb7-fa2d-454b-9a95-9ffec36b59bc",
   "metadata": {},
   "outputs": [
    {
     "data": {
      "text/plain": [
       "{'34847378': 178221}"
      ]
     },
     "execution_count": 11,
     "metadata": {},
     "output_type": "execute_result"
    }
   ],
   "source": [
    "get_like_count(34847378)"
   ]
  },
  {
   "cell_type": "markdown",
   "id": "f428ddb4-91d4-4874-a685-c2c884d7bf53",
   "metadata": {},
   "source": [
    "## 다나와"
   ]
  },
  {
   "cell_type": "code",
   "execution_count": 12,
   "id": "98363dd6-46bf-4ec2-a5a5-6321f075383e",
   "metadata": {},
   "outputs": [],
   "source": [
    "params = urllib.parse.urlencode({\"k1\": \"AMD\"})\n",
    "url = f'https://search.danawa.com/dsearch.php?{params}&module=goods&act=dispMain'\n",
    "req = urllib.request.Request(url)\n",
    "req.add_header('User-Agent', 'Mozilla/5.0 (Windows NT 6.3; Trident/7.0; rv:11.0) like Gecko')\n",
    "r = urllib.request.urlopen(req)\n",
    "html = urllib.request.urlopen(req).read()"
   ]
  },
  {
   "cell_type": "code",
   "execution_count": 13,
   "id": "2e310fdd-83ab-41db-8aa6-a997951f75e4",
   "metadata": {},
   "outputs": [],
   "source": [
    "soup = BeautifulSoup(html, 'html5lib')\n",
    "li_tag_list = soup.select(\"div.main_prodlist ul.product_list li.prod_item\")"
   ]
  },
  {
   "cell_type": "code",
   "execution_count": 14,
   "id": "74d86257-ec10-46f8-9ba2-c26c0b51614f",
   "metadata": {},
   "outputs": [],
   "source": [
    "title = li_tag_list[0].select('p.prod_name a')[0].text\n",
    "spec_list = li_tag_list[0].select('div.spec_list')[0].text.strip()\n",
    "price = li_tag_list[0].select('li.rank_one p.price_sect a strong')[0].text.strip().replace(',','')"
   ]
  },
  {
   "cell_type": "code",
   "execution_count": 15,
   "id": "def33b54-680b-43c6-a58b-5197ea9b5b47",
   "metadata": {},
   "outputs": [],
   "source": [
    "prod_data = []\n",
    "for prod_item in li_tag_list:\n",
    "    try:\n",
    "        title = prod_item.select('p.prod_name a')[0].text\n",
    "    except:\n",
    "        title = \"\"\n",
    "        \n",
    "    try:\n",
    "        spec_list = prod_item.select('div.spec_list')[0].text.strip()\n",
    "    except:\n",
    "        spec_list = \"\"\n",
    "        \n",
    "    try:\n",
    "        price = prod_item.select('li.rank_one p.price_sect a strong')[0].text.strip().replace(',','')\n",
    "    except:\n",
    "        price = \"\"\n",
    "    \n",
    "    prod = {'title': title, \n",
    "            #'spec_list':spec_list, \n",
    "            'price': price}\n",
    "    \n",
    "    prod_data.append(prod)\n",
    "    "
   ]
  },
  {
   "cell_type": "code",
   "execution_count": 16,
   "id": "8578a360-8057-4b0b-a9c7-4883d34e73a3",
   "metadata": {},
   "outputs": [
    {
     "data": {
      "text/plain": [
       "[{'title': 'AMD 라이젠5-4세대 5600X (버미어)', 'price': '206010'},\n",
       " {'title': 'AMD 라이젠5-4세대 5600 (버미어)', 'price': '184210'},\n",
       " {'title': 'LPjl3gIMDg', 'price': '367073'},\n",
       " {'title': 'AMD 라이젠7-4세대 5800X3D (버미어)', 'price': '599680'},\n",
       " {'title': 'AMD 라이젠7-4세대 5800X (버미어)', 'price': '303420'},\n",
       " {'title': 'AMD 라이젠5-4세대 5600G (세잔)', 'price': '195420'},\n",
       " {'title': '', 'price': ''},\n",
       " {'title': 'AMD 라이젠9-4세대 5900X (버미어)', 'price': '487950'},\n",
       " {'title': 'AMD 라이젠5 PRO 4650G (르누아르)', 'price': '154840'},\n",
       " {'title': 'AMD 라이젠5-3세대 4600G (르누아르)', 'price': '144040'},\n",
       " {'title': 'AMD 라이젠9-4세대 5950X (버미어)', 'price': '669800'},\n",
       " {'title': 'AMD 라이젠7-4세대 5700G (세잔)', 'price': '322140'},\n",
       " {'title': '', 'price': ''},\n",
       " {'title': 'AMD 라이젠7-4세대 5700X (버미어)', 'price': '296390'},\n",
       " {'title': 'AMD 라이젠5-4세대 5500 (세잔)', 'price': '159740'},\n",
       " {'title': 'AMD 라이젠 스레드리퍼 PRO 5995WX (샤갈 프로)', 'price': '10335000'},\n",
       " {'title': 'AMD 라이젠3 PRO 4350G (르누아르)', 'price': '130000'},\n",
       " {'title': 'AMD 라이젠7 PRO 4750G (르누아르)', 'price': '258050'},\n",
       " {'title': '', 'price': ''},\n",
       " {'title': 'AMD 라이젠3-3세대 4100 (르누아르-X)', 'price': '91500'},\n",
       " {'title': 'AMD 라이젠5-3세대 3600 (마티스)', 'price': '179450'},\n",
       " {'title': 'AMD 라이젠5-3세대 4500 (르누아르-X)', 'price': '130600'},\n",
       " {'title': 'AMD 라이젠5-3세대 3500X (마티스)', 'price': '299000'},\n",
       " {'title': 'AMD 라이젠9-3세대 3900X (마티스)', 'price': '489830'},\n",
       " {'title': 'AMD 라이젠7-3세대 3700X (마티스)', 'price': '408220'},\n",
       " {'title': 'AMD 라이젠5-2세대 2600 (피나클 릿지)', 'price': '280000'},\n",
       " {'title': 'AMD 라이젠7-2세대 2700X (피나클 릿지)', 'price': '460000'},\n",
       " {'title': 'AMD 라이젠 스레드리퍼 2950X (콜팩스)', 'price': '811920'},\n",
       " {'title': 'AMD 라이젠3-2세대 3200G (피카소)', 'price': '262800'},\n",
       " {'title': 'AMD 애슬론 200GE (레이븐 릿지)', 'price': '90240'},\n",
       " {'title': 'AMD 라이젠5-2세대 3400G (피카소)', 'price': '459470'},\n",
       " {'title': 'AMD 라이젠5-2세대 2600X (피나클 릿지)', 'price': '380330'},\n",
       " {'title': 'AMD 라이젠5-3세대 3500 (마티스)', 'price': '300000'},\n",
       " {'title': 'AMD 라이젠5-3세대 3600X (마티스)', 'price': '460000'},\n",
       " {'title': 'AMD 라이젠5-3세대 3600XT (마티스)', 'price': '340840'},\n",
       " {'title': 'AMD 라이젠7-3세대 3800XT (마티스)', 'price': '578350'},\n",
       " {'title': 'AMD 라이젠7-3세대 3800X (마티스)', 'price': '560760'},\n",
       " {'title': 'AMD 라이젠7-1세대 1700X (서밋 릿지)', 'price': '519300'},\n",
       " {'title': 'AMD 라이젠7-2세대 2700 (피나클 릿지)', 'price': '549450'},\n",
       " {'title': 'AMD 라이젠9-3세대 3900XT (마티스)', 'price': '706280'},\n",
       " {'title': 'AMD 라이젠3-3세대 3100 (마티스)', 'price': '557550'},\n",
       " {'title': 'AMD Wraith Stealth', 'price': '1070'},\n",
       " {'title': 'AMD 라이젠 스레드리퍼 PRO 3975WX (캐슬 픽-W)', 'price': '4949990'},\n",
       " {'title': 'AMD 애슬론 3000G (레이븐 릿지)', 'price': '64390'}]"
      ]
     },
     "execution_count": 16,
     "metadata": {},
     "output_type": "execute_result"
    }
   ],
   "source": [
    "prod_data"
   ]
  },
  {
   "cell_type": "code",
   "execution_count": null,
   "id": "86ba48eb-b61a-4997-8ed3-8e7a1b009239",
   "metadata": {},
   "outputs": [],
   "source": []
  }
 ],
 "metadata": {
  "kernelspec": {
   "display_name": "Python 3 (ipykernel)",
   "language": "python",
   "name": "python3"
  },
  "language_info": {
   "codemirror_mode": {
    "name": "ipython",
    "version": 3
   },
   "file_extension": ".py",
   "mimetype": "text/x-python",
   "name": "python",
   "nbconvert_exporter": "python",
   "pygments_lexer": "ipython3",
   "version": "3.9.13"
  }
 },
 "nbformat": 4,
 "nbformat_minor": 5
}
