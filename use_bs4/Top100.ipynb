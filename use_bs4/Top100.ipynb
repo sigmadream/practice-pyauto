{
 "cells": [
  {
   "cell_type": "markdown",
   "id": "7380ae4a-69fe-4346-941e-5558e6e71880",
   "metadata": {},
   "source": [
    "# 크롤링"
   ]
  },
  {
   "cell_type": "code",
   "execution_count": null,
   "id": "ef9b48d1-fc7f-415a-9926-04838bfbef25",
   "metadata": {},
   "outputs": [],
   "source": [
    "from bs4 import BeautifulSoup\n",
    "import urllib.request\n",
    "import json"
   ]
  },
  {
   "cell_type": "markdown",
   "id": "c16ed059-dda9-48e2-8e54-306141a179a7",
   "metadata": {
    "tags": []
   },
   "source": [
    "## 벅스"
   ]
  },
  {
   "cell_type": "code",
   "execution_count": null,
   "id": "0fcd5c7f-29e3-45a8-a361-3150990171ad",
   "metadata": {},
   "outputs": [],
   "source": [
    "url = 'https://music.bugs.co.kr/chart'\n",
    "req = urllib.request.Request(url)\n",
    "req.add_header('User-Agent', 'Mozilla/5.0 (Windows NT 6.3; Trident/7.0; rv:11.0) like Gecko')\n",
    "r = urllib.request.urlopen(req)\n",
    "html = urllib.request.urlopen(req).read()"
   ]
  },
  {
   "cell_type": "code",
   "execution_count": null,
   "id": "82825313-b418-4d22-9ec9-0b6df7a77b31",
   "metadata": {},
   "outputs": [],
   "source": [
    "soup = BeautifulSoup(html, 'html5lib')\n",
    "tr_tag_list = soup.select(\".list > tbody > tr\")"
   ]
  },
  {
   "cell_type": "code",
   "execution_count": null,
   "id": "93bea27a-6afe-411c-8af6-e511e6ab8ce6",
   "metadata": {},
   "outputs": [],
   "source": [
    "song_list = []\n",
    "for rank, tr_tag in enumerate(tr_tag_list, 1):\n",
    "    song_no = tr_tag[\"trackid\"]\n",
    "    song_tag = tr_tag.select_one(\"th .title a\")\n",
    "    album_tag = tr_tag.select_one(\"td.left .album\")\n",
    "    artist_tag = tr_tag.select_one(\"td.left .artist a\")\n",
    "    \n",
    "    song = {\n",
    "        \"song_no\": song_no,\n",
    "        \"title\": song_tag.text,\n",
    "        \"album\": album_tag.text,\n",
    "        \"artist\": artist_tag.text,\n",
    "    }\n",
    "    \n",
    "    song_list.append(song)"
   ]
  },
  {
   "cell_type": "code",
   "execution_count": null,
   "id": "32f9a238-7371-4f04-9a1c-d78760e70ed7",
   "metadata": {},
   "outputs": [],
   "source": [
    "song_list[0:2]"
   ]
  },
  {
   "cell_type": "markdown",
   "id": "0769d1ab-b775-4b77-a58e-1090e945217a",
   "metadata": {
    "tags": []
   },
   "source": [
    "## 멜론"
   ]
  },
  {
   "cell_type": "code",
   "execution_count": null,
   "id": "a5d399f7-796b-4a55-ab27-8cb783d0886f",
   "metadata": {},
   "outputs": [],
   "source": [
    "url = 'https://www.melon.com/chart/index.htm'\n",
    "req = urllib.request.Request(url)\n",
    "req.add_header('User-Agent', 'Mozilla/5.0 (Windows NT 6.3; Trident/7.0; rv:11.0) like Gecko')\n",
    "r = urllib.request.urlopen(req)\n",
    "html = urllib.request.urlopen(req).read()"
   ]
  },
  {
   "cell_type": "code",
   "execution_count": null,
   "id": "d953575e-2aae-420a-a3b6-19b86bc513dd",
   "metadata": {},
   "outputs": [],
   "source": [
    "soup = BeautifulSoup(html, 'html5lib')\n",
    "tr_tag_list = soup.select(\".d_song_list tbody tr\")"
   ]
  },
  {
   "cell_type": "code",
   "execution_count": null,
   "id": "5794baea-6203-4d8a-8bc1-9dd564325cbb",
   "metadata": {},
   "outputs": [],
   "source": [
    "song_list = []\n",
    "for rank, tr_tag in enumerate(tr_tag_list, 1):\n",
    "    song_no = tr_tag[\"data-song-no\"]\n",
    "    song_tag = tr_tag.select_one(\"a[href*=playSong]\")\n",
    "    album_tag = tr_tag.select_one(\".wrap_song_info a[href*=goAlbumDetail]\")\n",
    "    artist_tag = tr_tag.select_one(\"a[href*=goArtistDetail]\")\n",
    "    \n",
    "    song = {\n",
    "        \"song_no\": song_no,\n",
    "        \"title\": song_tag.text,\n",
    "        \"album\": album_tag.text,\n",
    "        \"artist\": artist_tag.text,\n",
    "    }\n",
    "    \n",
    "    song_list.append(song)"
   ]
  },
  {
   "cell_type": "code",
   "execution_count": null,
   "id": "4d38183e-8cb5-4fdb-9746-8831a767dd33",
   "metadata": {},
   "outputs": [],
   "source": [
    "song_list[0:5]"
   ]
  },
  {
   "cell_type": "code",
   "execution_count": null,
   "id": "8624a62d-4aa2-41c8-ac1c-201126484055",
   "metadata": {},
   "outputs": [],
   "source": [
    "def get_like_count(song_no_list):\n",
    "    params = urllib.parse.urlencode({\"contsIds\": song_no_list})\n",
    "    api_url = f'https://www.melon.com/commonlike/getSongLike.json?{params}'\n",
    "    req = urllib.request.Request(api_url)\n",
    "    req.add_header('User-Agent', 'Mozilla/5.0 (Windows NT 6.3; Trident/7.0; rv:11.0) like Gecko')\n",
    "    r = urllib.request.urlopen(req)\n",
    "    response = json.loads(r.read())\n",
    "    like_list = response[\"contsLike\"]\n",
    "    like_dict = {str(song[\"CONTSID\"]): song[\"SUMMCNT\"] for song in like_list}\n",
    "    return like_dict"
   ]
  },
  {
   "cell_type": "code",
   "execution_count": null,
   "id": "cbc87fb7-fa2d-454b-9a95-9ffec36b59bc",
   "metadata": {},
   "outputs": [],
   "source": [
    "get_like_count(34847378)"
   ]
  },
  {
   "cell_type": "markdown",
   "id": "f428ddb4-91d4-4874-a685-c2c884d7bf53",
   "metadata": {},
   "source": [
    "## 다나와"
   ]
  },
  {
   "cell_type": "code",
   "execution_count": null,
   "id": "98363dd6-46bf-4ec2-a5a5-6321f075383e",
   "metadata": {},
   "outputs": [],
   "source": [
    "params = urllib.parse.urlencode({\"k1\": \"AMD\"})\n",
    "url = f'https://search.danawa.com/dsearch.php?{params}&module=goods&act=dispMain'\n",
    "req = urllib.request.Request(url)\n",
    "req.add_header('User-Agent', 'Mozilla/5.0 (Windows NT 6.3; Trident/7.0; rv:11.0) like Gecko')\n",
    "r = urllib.request.urlopen(req)\n",
    "html = urllib.request.urlopen(req).read()"
   ]
  },
  {
   "cell_type": "code",
   "execution_count": null,
   "id": "2e310fdd-83ab-41db-8aa6-a997951f75e4",
   "metadata": {},
   "outputs": [],
   "source": [
    "soup = BeautifulSoup(html, 'html5lib')\n",
    "li_tag_list = soup.select(\"div.main_prodlist ul.product_list li.prod_item\")"
   ]
  },
  {
   "cell_type": "code",
   "execution_count": null,
   "id": "74d86257-ec10-46f8-9ba2-c26c0b51614f",
   "metadata": {},
   "outputs": [],
   "source": [
    "title = li_tag_list[0].select('p.prod_name a')[0].text\n",
    "spec_list = li_tag_list[0].select('div.spec_list')[0].text.strip()\n",
    "price = li_tag_list[0].select('li.rank_one p.price_sect a strong')[0].text.strip().replace(',','')"
   ]
  },
  {
   "cell_type": "code",
   "execution_count": null,
   "id": "def33b54-680b-43c6-a58b-5197ea9b5b47",
   "metadata": {},
   "outputs": [],
   "source": [
    "prod_data = []\n",
    "for prod_item in li_tag_list:\n",
    "    try:\n",
    "        title = prod_item.select('p.prod_name a')[0].text\n",
    "    except:\n",
    "        title = \"\"\n",
    "        \n",
    "    try:\n",
    "        spec_list = prod_item.select('div.spec_list')[0].text.strip()\n",
    "    except:\n",
    "        spec_list = \"\"\n",
    "        \n",
    "    try:\n",
    "        price = prod_item.select('li.rank_one p.price_sect a strong')[0].text.strip().replace(',','')\n",
    "    except:\n",
    "        price = \"\"\n",
    "    \n",
    "    prod = {'title': title, \n",
    "            #'spec_list':spec_list, \n",
    "            'price': price}\n",
    "    \n",
    "    prod_data.append(prod)\n",
    "    "
   ]
  },
  {
   "cell_type": "code",
   "execution_count": null,
   "id": "8578a360-8057-4b0b-a9c7-4883d34e73a3",
   "metadata": {},
   "outputs": [],
   "source": [
    "prod_data"
   ]
  },
  {
   "cell_type": "code",
   "execution_count": null,
   "id": "86ba48eb-b61a-4997-8ed3-8e7a1b009239",
   "metadata": {},
   "outputs": [],
   "source": []
  }
 ],
 "metadata": {
  "kernelspec": {
   "display_name": "Python 3 (ipykernel)",
   "language": "python",
   "name": "python3"
  },
  "language_info": {
   "codemirror_mode": {
    "name": "ipython",
    "version": 3
   },
   "file_extension": ".py",
   "mimetype": "text/x-python",
   "name": "python",
   "nbconvert_exporter": "python",
   "pygments_lexer": "ipython3",
   "version": "3.9.13"
  }
 },
 "nbformat": 4,
 "nbformat_minor": 5
}
